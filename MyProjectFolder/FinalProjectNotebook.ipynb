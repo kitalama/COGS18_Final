{
 "cells": [
  {
   "cell_type": "markdown",
   "metadata": {},
   "source": [
    "# 'Rock, Paper, Scissors' Chatbot Game"
   ]
  },
  {
   "cell_type": "markdown",
   "metadata": {},
   "source": [
    "For my project, I want to create a chatbot that plays rock, paper, scissors with the user.\n",
    "\n",
    "I created a function that determines if the user wants to play based on a set list of common answers (pos_list and neg_list). Once the user agrees to play, they will be asked to choose from 'rock', 'paper', or 'scissors' and a seperate function will assign their answer as such and print what they chose back to them. Next, there is a function that will select a number ranging from 1 to 3, assigning each number to 'rock', 'paper', or 'scissors' using a randomint() inbuilt function from the random module I imported. After the chatbot has randomly selected and the user has chosen an answer, a function will return a phrase saying who won or whether the game is a tie. Lastly, the chatbot will ask if the user wants to play again, if yes, the chatbot will call the function at the beginning and start the game over or thank the user for playing. \n",
    "\n",
    "I have included a main function at the end that pieces all the aspects of my code to run as one cohesive function. Thanks for playing my game!"
   ]
  },
  {
   "cell_type": "code",
   "execution_count": null,
   "metadata": {},
   "outputs": [],
   "source": [
    "from my_module.myfunctions import user_input, user_option, comp_option, evaluate, end_chat"
   ]
  },
  {
   "cell_type": "code",
   "execution_count": null,
   "metadata": {},
   "outputs": [],
   "source": [
    "import string\n",
    "import random"
   ]
  },
  {
   "cell_type": "code",
   "execution_count": null,
   "metadata": {},
   "outputs": [],
   "source": [
    "pos_list = ['Yes','yes','sure','ok','yeah','ya','fine']\n",
    "neg_list = ['no', 'nope', 'nah']"
   ]
  },
  {
   "cell_type": "code",
   "execution_count": null,
   "metadata": {},
   "outputs": [],
   "source": [
    "def main_game():\n",
    "    \"\"\"Main function to run chatbot\"\"\"\n",
    "    \n",
    "    chat = True\n",
    "    while chat: \n",
    "            \n",
    "        # Gets input message from the user and assigns it as out_msg\n",
    "        out_msg = user_input()\n",
    "        \n",
    "        # Allows user to select either 'rock', 'paper', or 'scissors' and assign it as user_choice.\n",
    "        user_choice = user_option()\n",
    "        \n",
    "        print('')\n",
    "        \n",
    "        # Computer will generate a random word from 'rock', 'paper', or 'scissors' and assign it as comp_choice.\n",
    "        comp_choice = comp_option()\n",
    "        \n",
    "        print('')\n",
    "        \n",
    "        # Evaluates whether the computer or user wins.\n",
    "        out_msg = evaluate(user_choice, comp_choice)\n",
    "        print(evaluate(user_choice, comp_choice))\n",
    "\n",
    "        print('')\n",
    "        \n",
    "        # Ask if user wants to continue playing.\n",
    "        user_quit = end_chat()"
   ]
  },
  {
   "cell_type": "code",
   "execution_count": null,
   "metadata": {},
   "outputs": [],
   "source": [
    "main_game()"
   ]
  }
 ],
 "metadata": {
  "kernelspec": {
   "display_name": "Python 3",
   "language": "python",
   "name": "python3"
  },
  "language_info": {
   "codemirror_mode": {
    "name": "ipython",
    "version": 3
   },
   "file_extension": ".py",
   "mimetype": "text/x-python",
   "name": "python",
   "nbconvert_exporter": "python",
   "pygments_lexer": "ipython3",
   "version": "3.6.7"
  }
 },
 "nbformat": 4,
 "nbformat_minor": 2
}
